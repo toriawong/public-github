{
 "cells": [
  {
   "cell_type": "markdown",
   "metadata": {},
   "source": [
    "# Objective: To explore the optimal NLP model for sentiment analysis "
   ]
  },
  {
   "cell_type": "code",
   "execution_count": 1,
   "metadata": {
    "scrolled": true
   },
   "outputs": [
    {
     "data": {
      "text/html": [
       "<div>\n",
       "<style scoped>\n",
       "    .dataframe tbody tr th:only-of-type {\n",
       "        vertical-align: middle;\n",
       "    }\n",
       "\n",
       "    .dataframe tbody tr th {\n",
       "        vertical-align: top;\n",
       "    }\n",
       "\n",
       "    .dataframe thead th {\n",
       "        text-align: right;\n",
       "    }\n",
       "</style>\n",
       "<table border=\"1\" class=\"dataframe\">\n",
       "  <thead>\n",
       "    <tr style=\"text-align: right;\">\n",
       "      <th></th>\n",
       "      <th>review</th>\n",
       "      <th>sentiment</th>\n",
       "    </tr>\n",
       "  </thead>\n",
       "  <tbody>\n",
       "    <tr>\n",
       "      <th>0</th>\n",
       "      <td>One of the other reviewers has mentioned that ...</td>\n",
       "      <td>positive</td>\n",
       "    </tr>\n",
       "    <tr>\n",
       "      <th>1</th>\n",
       "      <td>A wonderful little production. &lt;br /&gt;&lt;br /&gt;The...</td>\n",
       "      <td>positive</td>\n",
       "    </tr>\n",
       "    <tr>\n",
       "      <th>2</th>\n",
       "      <td>I thought this was a wonderful way to spend ti...</td>\n",
       "      <td>positive</td>\n",
       "    </tr>\n",
       "    <tr>\n",
       "      <th>3</th>\n",
       "      <td>Basically there's a family where a little boy ...</td>\n",
       "      <td>negative</td>\n",
       "    </tr>\n",
       "    <tr>\n",
       "      <th>4</th>\n",
       "      <td>Petter Mattei's \"Love in the Time of Money\" is...</td>\n",
       "      <td>positive</td>\n",
       "    </tr>\n",
       "  </tbody>\n",
       "</table>\n",
       "</div>"
      ],
      "text/plain": [
       "                                              review sentiment\n",
       "0  One of the other reviewers has mentioned that ...  positive\n",
       "1  A wonderful little production. <br /><br />The...  positive\n",
       "2  I thought this was a wonderful way to spend ti...  positive\n",
       "3  Basically there's a family where a little boy ...  negative\n",
       "4  Petter Mattei's \"Love in the Time of Money\" is...  positive"
      ]
     },
     "execution_count": 1,
     "metadata": {},
     "output_type": "execute_result"
    }
   ],
   "source": [
    "# Load the dataset\n",
    "import pandas as pd\n",
    "df= pd.read_csv('/Users/Tory/Desktop/Fellowship/IMDB Dataset.csv')\n",
    "df.head()"
   ]
  },
  {
   "cell_type": "code",
   "execution_count": 2,
   "metadata": {
    "scrolled": true
   },
   "outputs": [
    {
     "name": "stdout",
     "output_type": "stream",
     "text": [
      "Review no.: [0] \n",
      "\n",
      "One of the other reviewers has mentioned that after watching just 1 Oz episode you'll be hooked. They are right, as this is exactly what happened with me.<br /><br />The first thing that struck me about Oz was its brutality and unflinching scenes of violence, which set in right from the word GO. Trust me, this is not a show for the faint hearted or timid. This show pulls no punches with regards to drugs, sex or violence. Its is hardcore, in the classic use of the word.<br /><br />It is called OZ as that is the nickname given to the Oswald Maximum Security State Penitentary. It focuses mainly on Emerald City, an experimental section of the prison where all the cells have glass fronts and face inwards, so privacy is not high on the agenda. Em City is home to many..Aryans, Muslims, gangstas, Latinos, Christians, Italians, Irish and more....so scuffles, death stares, dodgy dealings and shady agreements are never far away.<br /><br />I would say the main appeal of the show is due to the fact that it goes where other shows wouldn't dare. Forget pretty pictures painted for mainstream audiences, forget charm, forget romance...OZ doesn't mess around. The first episode I ever saw struck me as so nasty it was surreal, I couldn't say I was ready for it, but as I watched more, I developed a taste for Oz, and got accustomed to the high levels of graphic violence. Not just violence, but injustice (crooked guards who'll be sold out for a nickel, inmates who'll kill on order and get away with it, well mannered, middle class inmates being turned into prison bitches due to their lack of street skills or prison experience) Watching Oz, you may become comfortable with what is uncomfortable viewing....thats if you can get in touch with your darker side. \n",
      "\n",
      "Review no.: [1] \n",
      "\n",
      "A wonderful little production. <br /><br />The filming technique is very unassuming- very old-time-BBC fashion and gives a comforting, and sometimes discomforting, sense of realism to the entire piece. <br /><br />The actors are extremely well chosen- Michael Sheen not only \"has got all the polari\" but he has all the voices down pat too! You can truly see the seamless editing guided by the references to Williams' diary entries, not only is it well worth the watching but it is a terrificly written and performed piece. A masterful production about one of the great master's of comedy and his life. <br /><br />The realism really comes home with the little things: the fantasy of the guard which, rather than use the traditional 'dream' techniques remains solid then disappears. It plays on our knowledge and our senses, particularly with the scenes concerning Orton and Halliwell and the sets (particularly of their flat with Halliwell's murals decorating every surface) are terribly well done. \n",
      "\n",
      "Review no.: [2] \n",
      "\n",
      "I thought this was a wonderful way to spend time on a too hot summer weekend, sitting in the air conditioned theater and watching a light-hearted comedy. The plot is simplistic, but the dialogue is witty and the characters are likable (even the well bread suspected serial killer). While some may be disappointed when they realize this is not Match Point 2: Risk Addiction, I thought it was proof that Woody Allen is still fully in control of the style many of us have grown to love.<br /><br />This was the most I'd laughed at one of Woody's comedies in years (dare I say a decade?). While I've never been impressed with Scarlet Johanson, in this she managed to tone down her \"sexy\" image and jumped right into a average, but spirited young woman.<br /><br />This may not be the crown jewel of his career, but it was wittier than \"Devil Wears Prada\" and more interesting than \"Superman\" a great comedy to go see with friends. \n",
      "\n"
     ]
    }
   ],
   "source": [
    "#Examine 3 reviews\n",
    "\n",
    "for i in range(3):\n",
    "  print('Review no.:',[i],'\\n')\n",
    "  print(df['review'].iloc[i],'\\n')"
   ]
  },
  {
   "cell_type": "markdown",
   "metadata": {},
   "source": [
    "# Summary\n",
    "\n",
    "We can see that the data contains:\n",
    "\n",
    "- Capital letters\n",
    "- Numbers\n",
    "- Non-sensical text\n",
    "- Punctuations\n",
    "\n",
    "These elements will have to be removed in the data cleaning stage"
   ]
  },
  {
   "cell_type": "markdown",
   "metadata": {},
   "source": [
    "# EDA"
   ]
  },
  {
   "cell_type": "code",
   "execution_count": 3,
   "metadata": {},
   "outputs": [
    {
     "data": {
      "text/html": [
       "<div>\n",
       "<style scoped>\n",
       "    .dataframe tbody tr th:only-of-type {\n",
       "        vertical-align: middle;\n",
       "    }\n",
       "\n",
       "    .dataframe tbody tr th {\n",
       "        vertical-align: top;\n",
       "    }\n",
       "\n",
       "    .dataframe thead th {\n",
       "        text-align: right;\n",
       "    }\n",
       "</style>\n",
       "<table border=\"1\" class=\"dataframe\">\n",
       "  <thead>\n",
       "    <tr style=\"text-align: right;\">\n",
       "      <th></th>\n",
       "      <th>review</th>\n",
       "      <th>sentiment</th>\n",
       "    </tr>\n",
       "  </thead>\n",
       "  <tbody>\n",
       "    <tr>\n",
       "      <th>count</th>\n",
       "      <td>50000</td>\n",
       "      <td>50000</td>\n",
       "    </tr>\n",
       "    <tr>\n",
       "      <th>unique</th>\n",
       "      <td>49582</td>\n",
       "      <td>2</td>\n",
       "    </tr>\n",
       "    <tr>\n",
       "      <th>top</th>\n",
       "      <td>Loved today's show!!! It was a variety and not...</td>\n",
       "      <td>positive</td>\n",
       "    </tr>\n",
       "    <tr>\n",
       "      <th>freq</th>\n",
       "      <td>5</td>\n",
       "      <td>25000</td>\n",
       "    </tr>\n",
       "  </tbody>\n",
       "</table>\n",
       "</div>"
      ],
      "text/plain": [
       "                                                   review sentiment\n",
       "count                                               50000     50000\n",
       "unique                                              49582         2\n",
       "top     Loved today's show!!! It was a variety and not...  positive\n",
       "freq                                                    5     25000"
      ]
     },
     "execution_count": 3,
     "metadata": {},
     "output_type": "execute_result"
    }
   ],
   "source": [
    "#Examine the daataset\n",
    "df.describe() "
   ]
  },
  {
   "cell_type": "code",
   "execution_count": 4,
   "metadata": {},
   "outputs": [
    {
     "data": {
      "text/plain": [
       "(50000, 2)"
      ]
     },
     "execution_count": 4,
     "metadata": {},
     "output_type": "execute_result"
    }
   ],
   "source": [
    "df.shape"
   ]
  },
  {
   "cell_type": "code",
   "execution_count": 5,
   "metadata": {},
   "outputs": [
    {
     "data": {
      "text/plain": [
       "review       False\n",
       "sentiment    False\n",
       "dtype: bool"
      ]
     },
     "execution_count": 5,
     "metadata": {},
     "output_type": "execute_result"
    }
   ],
   "source": [
    "#Check for null values\n",
    "df.isna().any() #No null values"
   ]
  },
  {
   "cell_type": "code",
   "execution_count": 6,
   "metadata": {},
   "outputs": [
    {
     "data": {
      "text/plain": [
       "positive    25000\n",
       "negative    25000\n",
       "Name: sentiment, dtype: int64"
      ]
     },
     "execution_count": 6,
     "metadata": {},
     "output_type": "execute_result"
    }
   ],
   "source": [
    "#Check class distribution\n",
    "semtiment_count=df['sentiment'].value_counts()\n",
    "semtiment_count #No class imbalance"
   ]
  },
  {
   "cell_type": "code",
   "execution_count": 7,
   "metadata": {},
   "outputs": [
    {
     "name": "stdout",
     "output_type": "stream",
     "text": [
      "Number of duplicated reviews: 418\n"
     ]
    }
   ],
   "source": [
    "#Check for duplicates\n",
    "duplicates=df[df.duplicated()]\n",
    "print('Number of duplicated reviews:', duplicates['review'].count()) #There are 418 duplicated reviews"
   ]
  },
  {
   "cell_type": "markdown",
   "metadata": {},
   "source": [
    "## Summary: There are 50000 reviews in total, with equal distibution between positive and negative reviews (25000 each). There is no missing value but the dataset had 418 duplicated reviews"
   ]
  },
  {
   "cell_type": "markdown",
   "metadata": {},
   "source": [
    "# Data cleaning"
   ]
  },
  {
   "cell_type": "markdown",
   "metadata": {},
   "source": [
    "Data cleaning steps include:\n",
    "\n",
    "- Label sentiment\n",
    "- Drop duplicates\n",
    "- Remove capital letters\n",
    "- Remove punctuations\n",
    "- Remove non-sensical texts\n",
    "- Remove numbers\n",
    "- Remove stop wrods\n",
    "- Lemmatize text\n",
    "- Tokenize text"
   ]
  },
  {
   "cell_type": "code",
   "execution_count": 8,
   "metadata": {},
   "outputs": [
    {
     "data": {
      "text/plain": [
       "(49582, 2)"
      ]
     },
     "execution_count": 8,
     "metadata": {},
     "output_type": "execute_result"
    }
   ],
   "source": [
    "#Drop duplicates\n",
    "df=df.drop_duplicates('review')\n",
    "df.shape #Only 49582 reviews left"
   ]
  },
  {
   "cell_type": "code",
   "execution_count": 9,
   "metadata": {},
   "outputs": [
    {
     "data": {
      "text/html": [
       "<div>\n",
       "<style scoped>\n",
       "    .dataframe tbody tr th:only-of-type {\n",
       "        vertical-align: middle;\n",
       "    }\n",
       "\n",
       "    .dataframe tbody tr th {\n",
       "        vertical-align: top;\n",
       "    }\n",
       "\n",
       "    .dataframe thead th {\n",
       "        text-align: right;\n",
       "    }\n",
       "</style>\n",
       "<table border=\"1\" class=\"dataframe\">\n",
       "  <thead>\n",
       "    <tr style=\"text-align: right;\">\n",
       "      <th></th>\n",
       "      <th>review</th>\n",
       "      <th>sentiment_map</th>\n",
       "    </tr>\n",
       "  </thead>\n",
       "  <tbody>\n",
       "    <tr>\n",
       "      <th>0</th>\n",
       "      <td>One of the other reviewers has mentioned that ...</td>\n",
       "      <td>1</td>\n",
       "    </tr>\n",
       "    <tr>\n",
       "      <th>1</th>\n",
       "      <td>A wonderful little production. &lt;br /&gt;&lt;br /&gt;The...</td>\n",
       "      <td>1</td>\n",
       "    </tr>\n",
       "    <tr>\n",
       "      <th>2</th>\n",
       "      <td>I thought this was a wonderful way to spend ti...</td>\n",
       "      <td>1</td>\n",
       "    </tr>\n",
       "    <tr>\n",
       "      <th>3</th>\n",
       "      <td>Basically there's a family where a little boy ...</td>\n",
       "      <td>0</td>\n",
       "    </tr>\n",
       "    <tr>\n",
       "      <th>4</th>\n",
       "      <td>Petter Mattei's \"Love in the Time of Money\" is...</td>\n",
       "      <td>1</td>\n",
       "    </tr>\n",
       "  </tbody>\n",
       "</table>\n",
       "</div>"
      ],
      "text/plain": [
       "                                              review  sentiment_map\n",
       "0  One of the other reviewers has mentioned that ...              1\n",
       "1  A wonderful little production. <br /><br />The...              1\n",
       "2  I thought this was a wonderful way to spend ti...              1\n",
       "3  Basically there's a family where a little boy ...              0\n",
       "4  Petter Mattei's \"Love in the Time of Money\" is...              1"
      ]
     },
     "execution_count": 9,
     "metadata": {},
     "output_type": "execute_result"
    }
   ],
   "source": [
    "#One-hot encoding of sentiments\n",
    "label = {'negative':0, 'positive':1} #0=negative review; 1=positive review \n",
    "df['sentiment_map']=df['sentiment'].map(label)\n",
    "df=df.drop(columns='sentiment', axis=1)\n",
    "df.head()"
   ]
  },
  {
   "cell_type": "code",
   "execution_count": 10,
   "metadata": {},
   "outputs": [
    {
     "name": "stderr",
     "output_type": "stream",
     "text": [
      "[nltk_data] Downloading package stopwords to /Users/Tory/nltk_data...\n",
      "[nltk_data]   Package stopwords is already up-to-date!\n",
      "[nltk_data] Downloading package punkt to /Users/Tory/nltk_data...\n",
      "[nltk_data]   Package punkt is already up-to-date!\n"
     ]
    }
   ],
   "source": [
    "import re\n",
    "import nltk\n",
    "from nltk.corpus import stopwords\n",
    "from nltk.tokenize import word_tokenize\n",
    "from nltk.stem import WordNetLemmatizer\n",
    "from nltk.stem.snowball import SnowballStemmer\n",
    "from nltk.stem import PorterStemmer\n",
    "nltk.download('stopwords')\n",
    "nltk.download('punkt')\n",
    "stop_words = set(stopwords.words('english'))"
   ]
  },
  {
   "cell_type": "code",
   "execution_count": 11,
   "metadata": {},
   "outputs": [],
   "source": [
    "#Data cleaning pipeline\n",
    "def data_cleaning(text):\n",
    "    # Remove non-sensical texts and convert texts to lowercase\n",
    "    text = re.sub('<.*?>', '', text)\n",
    "    text = re.sub('[^a-zA-Z0-9]', ' ', text).lower()\n",
    "    # Tokenization\n",
    "    words = nltk.word_tokenize(text)\n",
    "    # Remove stopwords\n",
    "    words = [w for w in words if w not in stopwords.words('english')]\n",
    "    #Lemmatizing\n",
    "    lemmatizer=WordNetLemmatizer()\n",
    "    words = [lemmatizer.lemmatize(w) for w in words]\n",
    "    #Stemming \n",
    "    stemmer = SnowballStemmer(language='english')\n",
    "    words = [stemmer.stem(w) for w in words]\n",
    "    text = ' '.join(words)\n",
    "    return text"
   ]
  },
  {
   "cell_type": "code",
   "execution_count": 12,
   "metadata": {},
   "outputs": [
    {
     "name": "stderr",
     "output_type": "stream",
     "text": [
      "/Users/Tory/opt/anaconda3/lib/python3.8/site-packages/tqdm/std.py:668: FutureWarning: The Panel class is removed from pandas. Accessing it from the top-level namespace will also be removed in the next version\n",
      "  from pandas import Panel\n"
     ]
    },
    {
     "data": {
      "application/vnd.jupyter.widget-view+json": {
       "model_id": "398cb6a3075f42c9b77b7793802c2ce4",
       "version_major": 2,
       "version_minor": 0
      },
      "text/plain": [
       "HBox(children=(FloatProgress(value=0.0, max=49582.0), HTML(value='')))"
      ]
     },
     "metadata": {},
     "output_type": "display_data"
    },
    {
     "name": "stdout",
     "output_type": "stream",
     "text": [
      "\n"
     ]
    }
   ],
   "source": [
    "#Install progress bar\n",
    "from tqdm.notebook import tqdm\n",
    "tqdm.pandas()\n",
    "\n",
    "#Data cleaning\n",
    "df['cleaned_reviews'] = df['review'].progress_apply(data_cleaning)"
   ]
  },
  {
   "cell_type": "markdown",
   "metadata": {},
   "source": [
    "# Investigate the top bigrams assocaited with positive or negative reviews"
   ]
  },
  {
   "cell_type": "code",
   "execution_count": 30,
   "metadata": {},
   "outputs": [
    {
     "data": {
      "text/html": [
       "<div>\n",
       "<style scoped>\n",
       "    .dataframe tbody tr th:only-of-type {\n",
       "        vertical-align: middle;\n",
       "    }\n",
       "\n",
       "    .dataframe tbody tr th {\n",
       "        vertical-align: top;\n",
       "    }\n",
       "\n",
       "    .dataframe thead th {\n",
       "        text-align: right;\n",
       "    }\n",
       "</style>\n",
       "<table border=\"1\" class=\"dataframe\">\n",
       "  <thead>\n",
       "    <tr style=\"text-align: right;\">\n",
       "      <th></th>\n",
       "      <th>review</th>\n",
       "      <th>sentiment_map</th>\n",
       "      <th>cleaned_reviews</th>\n",
       "    </tr>\n",
       "  </thead>\n",
       "  <tbody>\n",
       "    <tr>\n",
       "      <th>0</th>\n",
       "      <td>One of the other reviewers has mentioned that ...</td>\n",
       "      <td>1</td>\n",
       "      <td>one review mention watch 1 oz episod hook righ...</td>\n",
       "    </tr>\n",
       "    <tr>\n",
       "      <th>1</th>\n",
       "      <td>A wonderful little production. &lt;br /&gt;&lt;br /&gt;The...</td>\n",
       "      <td>1</td>\n",
       "      <td>wonder littl product film techniqu unassum old...</td>\n",
       "    </tr>\n",
       "    <tr>\n",
       "      <th>2</th>\n",
       "      <td>I thought this was a wonderful way to spend ti...</td>\n",
       "      <td>1</td>\n",
       "      <td>thought wonder way spend time hot summer weeke...</td>\n",
       "    </tr>\n",
       "    <tr>\n",
       "      <th>4</th>\n",
       "      <td>Petter Mattei's \"Love in the Time of Money\" is...</td>\n",
       "      <td>1</td>\n",
       "      <td>petter mattei love time money visual stun film...</td>\n",
       "    </tr>\n",
       "    <tr>\n",
       "      <th>5</th>\n",
       "      <td>Probably my all-time favorite movie, a story o...</td>\n",
       "      <td>1</td>\n",
       "      <td>probabl time favorit movi stori selfless sacri...</td>\n",
       "    </tr>\n",
       "    <tr>\n",
       "      <th>...</th>\n",
       "      <td>...</td>\n",
       "      <td>...</td>\n",
       "      <td>...</td>\n",
       "    </tr>\n",
       "    <tr>\n",
       "      <th>49983</th>\n",
       "      <td>I loved it, having been a fan of the original ...</td>\n",
       "      <td>1</td>\n",
       "      <td>love fan origin seri alway wonder back stori w...</td>\n",
       "    </tr>\n",
       "    <tr>\n",
       "      <th>49985</th>\n",
       "      <td>Imaginary Heroes is clearly the best film of t...</td>\n",
       "      <td>1</td>\n",
       "      <td>imaginari hero clear best film year complet ut...</td>\n",
       "    </tr>\n",
       "    <tr>\n",
       "      <th>49989</th>\n",
       "      <td>I got this one a few weeks ago and love it! It...</td>\n",
       "      <td>1</td>\n",
       "      <td>got one week ago love modern light fill true c...</td>\n",
       "    </tr>\n",
       "    <tr>\n",
       "      <th>49992</th>\n",
       "      <td>John Garfield plays a Marine who is blinded by...</td>\n",
       "      <td>1</td>\n",
       "      <td>john garfield play marin blind grenad fight gu...</td>\n",
       "    </tr>\n",
       "    <tr>\n",
       "      <th>49995</th>\n",
       "      <td>I thought this movie did a down right good job...</td>\n",
       "      <td>1</td>\n",
       "      <td>thought movi right good job creativ origin fir...</td>\n",
       "    </tr>\n",
       "  </tbody>\n",
       "</table>\n",
       "<p>24884 rows × 3 columns</p>\n",
       "</div>"
      ],
      "text/plain": [
       "                                                  review  sentiment_map  \\\n",
       "0      One of the other reviewers has mentioned that ...              1   \n",
       "1      A wonderful little production. <br /><br />The...              1   \n",
       "2      I thought this was a wonderful way to spend ti...              1   \n",
       "4      Petter Mattei's \"Love in the Time of Money\" is...              1   \n",
       "5      Probably my all-time favorite movie, a story o...              1   \n",
       "...                                                  ...            ...   \n",
       "49983  I loved it, having been a fan of the original ...              1   \n",
       "49985  Imaginary Heroes is clearly the best film of t...              1   \n",
       "49989  I got this one a few weeks ago and love it! It...              1   \n",
       "49992  John Garfield plays a Marine who is blinded by...              1   \n",
       "49995  I thought this movie did a down right good job...              1   \n",
       "\n",
       "                                         cleaned_reviews  \n",
       "0      one review mention watch 1 oz episod hook righ...  \n",
       "1      wonder littl product film techniqu unassum old...  \n",
       "2      thought wonder way spend time hot summer weeke...  \n",
       "4      petter mattei love time money visual stun film...  \n",
       "5      probabl time favorit movi stori selfless sacri...  \n",
       "...                                                  ...  \n",
       "49983  love fan origin seri alway wonder back stori w...  \n",
       "49985  imaginari hero clear best film year complet ut...  \n",
       "49989  got one week ago love modern light fill true c...  \n",
       "49992  john garfield play marin blind grenad fight gu...  \n",
       "49995  thought movi right good job creativ origin fir...  \n",
       "\n",
       "[24884 rows x 3 columns]"
      ]
     },
     "execution_count": 30,
     "metadata": {},
     "output_type": "execute_result"
    }
   ],
   "source": [
    "#Split the df into 2 dfs according to the sentiment \n",
    "df_pos_reviews = df[df['sentiment_map']==1]\n",
    "df_neg_reviews = df[df['sentiment_map']==0]"
   ]
  },
  {
   "cell_type": "code",
   "execution_count": 83,
   "metadata": {},
   "outputs": [
    {
     "data": {
      "image/png": "[encoded data removed]",
      "text/plain": [
       "<Figure size 720x576 with 1 Axes>"
      ]
     },
     "metadata": {
      "needs_background": "light"
     },
     "output_type": "display_data"
    }
   ],
   "source": [
    "import matplotlib.pyplot as plt\n",
    "#Get bigrams for positive reviews\n",
    "def get_top_n_bigram(corpus, n=None):\n",
    "    vectorizor = TfidfVectorizer(ngram_range=(2, 2), stop_words='english').fit(corpus)\n",
    "    bow = vectorizor.transform(corpus)\n",
    "    sum_words = bow.sum(axis=0) \n",
    "    words_freq = [(word, sum_words[0, idx]) for word, idx in vectorizor.vocabulary_.items()]\n",
    "    words_freq =sorted(words_freq, key = lambda x: x[1], reverse=True)\n",
    "    return words_freq[:n]\n",
    "common_words = get_top_n_bigram(df_pos_reviews['cleaned_reviews'], 30)\n",
    "df_poitive_reviews = pd.DataFrame(common_words, columns = ['bigrams' , 'count'])\n",
    "\n",
    "#Plot the bigrams\n",
    "plt.figure(figsize=(10,8))\n",
    "plt.barh(df_poitive_reviews['bigrams'], df_poitive_reviews['count'])\n",
    "plt.xlabel('Frequency')\n",
    "plt.title('Most fr equent bigrams associated with positive reviews')\n",
    "plt.show()"
   ]
  },
  {
   "cell_type": "markdown",
   "metadata": {},
   "source": [
    "### It can be seen that among the top 30 post frequent bigrams in positive reviews include \"main charact\", \"special effect\", \"sci fi\", \"love stori\", suggesting the main characters, special effects could be possible reasons why people like the film, and sci fi or romantic films could be popular genre within positive reviews."
   ]
  },
  {
   "cell_type": "code",
   "execution_count": 84,
   "metadata": {},
   "outputs": [
    {
     "data": {
      "image/png": "[encoded data removed]",
      "text/plain": [
       "<Figure size 720x576 with 1 Axes>"
      ]
     },
     "metadata": {
      "needs_background": "light"
     },
     "output_type": "display_data"
    }
   ],
   "source": [
    "#Get bigrams for negative reviews\n",
    "def get_top_n_bigram(corpus, n=None):\n",
    "    vectorizor = TfidfVectorizer(ngram_range=(2, 2), stop_words='english').fit(corpus)\n",
    "    bow = vectorizor.transform(corpus)\n",
    "    sum_words = bow.sum(axis=0) \n",
    "    words_freq = [(word, sum_words[0, idx]) for word, idx in vectorizor.vocabulary_.items()]\n",
    "    words_freq =sorted(words_freq, key = lambda x: x[1], reverse=True)\n",
    "    return words_freq[:n]\n",
    "common_words = get_top_n_bigram(df_neg_reviews['cleaned_reviews'], 30)\n",
    "df_negative_reviews = pd.DataFrame(common_words, columns = ['bigrams' , 'count'])\n",
    "\n",
    "#Plot the bigrams\n",
    "plt.figure(figsize=(10,8))\n",
    "plt.barh(df_negative_reviews['bigrams'], df_negative_reviews['count'])\n",
    "plt.xlabel('Frequency')\n",
    "plt.title('Most frequent bigrams associated with negative reviews')\n",
    "plt.show()"
   ]
  },
  {
   "cell_type": "markdown",
   "metadata": {},
   "source": [
    "### On the other hand, in negative reviews, the top 30 most frequent bigrams included \"special effect\", \"low budget\", \"main charact\", \"horror movi\", \"horror film\", and \"bad act\", suggesting a low budget film, horrom film, the choice of main character and bad acting are the most possible reasons why reviewers dislike the film."
   ]
  },
  {
   "cell_type": "markdown",
   "metadata": {},
   "source": [
    "# Summary: Some bigrams such as \"main charact\", \"sci fi\",  \"special effect\" are associated with both positive and negative reviews, suggesting that these could be important factors that reviewers consider whether they like the movie or not."
   ]
  },
  {
   "cell_type": "markdown",
   "metadata": {},
   "source": [
    "# Split the data into train and test set (stratified)"
   ]
  },
  {
   "cell_type": "code",
   "execution_count": 13,
   "metadata": {},
   "outputs": [],
   "source": [
    "from sklearn.model_selection import train_test_split\n",
    "seed=1\n",
    "X_train, X_test, y_train, y_test = train_test_split(df['cleaned_reviews'], df['sentiment_map'], test_size=0.2, random_state=seed, stratify = df['sentiment_map'])"
   ]
  },
  {
   "cell_type": "code",
   "execution_count": 14,
   "metadata": {},
   "outputs": [
    {
     "data": {
      "text/plain": [
       "1    4977\n",
       "0    4940\n",
       "Name: sentiment_map, dtype: int64"
      ]
     },
     "execution_count": 14,
     "metadata": {},
     "output_type": "execute_result"
    }
   ],
   "source": [
    "y_test.value_counts() #Similar class istribution in the test set to the original dataset"
   ]
  },
  {
   "cell_type": "markdown",
   "metadata": {},
   "source": [
    "# Feature selection using TF-IDF"
   ]
  },
  {
   "cell_type": "code",
   "execution_count": 15,
   "metadata": {},
   "outputs": [],
   "source": [
    "from sklearn.feature_extraction.text import TfidfVectorizer\n",
    "tfidf = TfidfVectorizer()\n",
    "X_train_vector = tfidf.fit_transform(X_train)\n",
    "X_test_vector = tfidf.transform(X_test)"
   ]
  },
  {
   "cell_type": "markdown",
   "metadata": {},
   "source": [
    "# Model selection\n",
    "- Start with a regression model as base model"
   ]
  },
  {
   "cell_type": "markdown",
   "metadata": {},
   "source": [
    "## Logistic regression"
   ]
  },
  {
   "cell_type": "code",
   "execution_count": 16,
   "metadata": {},
   "outputs": [],
   "source": [
    "from sklearn.linear_model import LogisticRegression\n",
    "from sklearn.metrics import confusion_matrix\n",
    "import seaborn as sns"
   ]
  },
  {
   "cell_type": "code",
   "execution_count": 17,
   "metadata": {
    "scrolled": false
   },
   "outputs": [
    {
     "data": {
      "text/plain": [
       "<matplotlib.axes._subplots.AxesSubplot at 0x7fea7334ceb0>"
      ]
     },
     "execution_count": 17,
     "metadata": {},
     "output_type": "execute_result"
    },
    {
     "data": {
      "image/png": "[encoded data removed]",
      "text/plain": [
       "<Figure size 432x288 with 2 Axes>"
      ]
     },
     "metadata": {
      "needs_background": "light"
     },
     "output_type": "display_data"
    }
   ],
   "source": [
    "clf = LogisticRegression(max_iter=500)\n",
    "clf.fit(X_train_vector, y_train)\n",
    "y_pred = clf.predict(X_test_vector)\n",
    "cm=confusion_matrix(y_test,y_pred)\n",
    "sns.heatmap(cm, annot=True)"
   ]
  },
  {
   "cell_type": "code",
   "execution_count": 18,
   "metadata": {},
   "outputs": [
    {
     "name": "stdout",
     "output_type": "stream",
     "text": [
      "              precision    recall  f1-score   support\n",
      "\n",
      "           0       0.90      0.88      0.89      4940\n",
      "           1       0.89      0.90      0.90      4977\n",
      "\n",
      "    accuracy                           0.89      9917\n",
      "   macro avg       0.89      0.89      0.89      9917\n",
      "weighted avg       0.89      0.89      0.89      9917\n",
      "\n"
     ]
    }
   ],
   "source": [
    "from sklearn.metrics import classification_report\n",
    "\n",
    "print(classification_report(y_test, y_pred))"
   ]
  },
  {
   "cell_type": "markdown",
   "metadata": {},
   "source": [
    "### High scores for regression model, scoring 88% or above in all metrics"
   ]
  },
  {
   "cell_type": "markdown",
   "metadata": {},
   "source": [
    "## Decision tree"
   ]
  },
  {
   "cell_type": "code",
   "execution_count": 19,
   "metadata": {},
   "outputs": [
    {
     "data": {
      "text/plain": [
       "<matplotlib.axes._subplots.AxesSubplot at 0x7fea627faa90>"
      ]
     },
     "execution_count": 19,
     "metadata": {},
     "output_type": "execute_result"
    },
    {
     "data": {
      "image/png": "[encoded data removed]",
      "text/plain": [
       "<Figure size 432x288 with 2 Axes>"
      ]
     },
     "metadata": {
      "needs_background": "light"
     },
     "output_type": "display_data"
    }
   ],
   "source": [
    "from sklearn.tree import DecisionTreeClassifier\n",
    "\n",
    "tree_clf = DecisionTreeClassifier()\n",
    "tree_clf.fit(X_train_vector, y_train)\n",
    "y_pred = tree_clf.predict(X_test_vector)\n",
    "cm=confusion_matrix(y_test,y_pred)\n",
    "sns.heatmap(cm, annot=True)"
   ]
  },
  {
   "cell_type": "code",
   "execution_count": 20,
   "metadata": {},
   "outputs": [
    {
     "name": "stdout",
     "output_type": "stream",
     "text": [
      "              precision    recall  f1-score   support\n",
      "\n",
      "           0       0.72      0.72      0.72      4940\n",
      "           1       0.73      0.72      0.72      4977\n",
      "\n",
      "    accuracy                           0.72      9917\n",
      "   macro avg       0.72      0.72      0.72      9917\n",
      "weighted avg       0.72      0.72      0.72      9917\n",
      "\n"
     ]
    }
   ],
   "source": [
    "print(classification_report(y_test, y_pred))"
   ]
  },
  {
   "cell_type": "markdown",
   "metadata": {},
   "source": [
    "### Summary: Lower score across the board compared with regression model, with an average score of ~72%"
   ]
  },
  {
   "cell_type": "markdown",
   "metadata": {},
   "source": [
    "## Random Forest"
   ]
  },
  {
   "cell_type": "code",
   "execution_count": 21,
   "metadata": {},
   "outputs": [
    {
     "data": {
      "text/plain": [
       "<matplotlib.axes._subplots.AxesSubplot at 0x7fea53756400>"
      ]
     },
     "execution_count": 21,
     "metadata": {},
     "output_type": "execute_result"
    },
    {
     "data": {
      "image/png": "[encoded data removed]",
      "text/plain": [
       "<Figure size 432x288 with 2 Axes>"
      ]
     },
     "metadata": {
      "needs_background": "light"
     },
     "output_type": "display_data"
    }
   ],
   "source": [
    "#Trying an ensemble method\n",
    "from sklearn.ensemble import RandomForestClassifier\n",
    "rf_clf = RandomForestClassifier(random_state = seed)\n",
    "rf_clf.fit(X_train_vector, y_train)\n",
    "y_pred = tree_clf.predict(X_test_vector)\n",
    "cm=confusion_matrix(y_test,y_pred)\n",
    "sns.heatmap(cm, annot=True)"
   ]
  },
  {
   "cell_type": "code",
   "execution_count": 22,
   "metadata": {},
   "outputs": [
    {
     "name": "stdout",
     "output_type": "stream",
     "text": [
      "              precision    recall  f1-score   support\n",
      "\n",
      "           0       0.72      0.72      0.72      4940\n",
      "           1       0.73      0.72      0.72      4977\n",
      "\n",
      "    accuracy                           0.72      9917\n",
      "   macro avg       0.72      0.72      0.72      9917\n",
      "weighted avg       0.72      0.72      0.72      9917\n",
      "\n"
     ]
    }
   ],
   "source": [
    "print(classification_report(y_test, y_pred))"
   ]
  },
  {
   "cell_type": "markdown",
   "metadata": {},
   "source": [
    "## Support vector machine"
   ]
  },
  {
   "cell_type": "code",
   "execution_count": 23,
   "metadata": {},
   "outputs": [
    {
     "name": "stdout",
     "output_type": "stream",
     "text": [
      "              precision    recall  f1-score   support\n",
      "\n",
      "           0       0.90      0.89      0.89      4940\n",
      "           1       0.89      0.90      0.90      4977\n",
      "\n",
      "    accuracy                           0.90      9917\n",
      "   macro avg       0.90      0.90      0.90      9917\n",
      "weighted avg       0.90      0.90      0.90      9917\n",
      "\n"
     ]
    }
   ],
   "source": [
    "from sklearn.svm import SVC\n",
    "svm_clf = SVC(kernel = 'linear', verbose = True)\n",
    "svm_clf.fit(X_train_vector, y_train)\n",
    "y_pred = svm_clf.predict(X_test_vector)\n",
    "cm=confusion_matrix(y_test,y_pred)\n",
    "print(classification_report(y_test, y_pred))"
   ]
  },
  {
   "cell_type": "markdown",
   "metadata": {},
   "source": [
    "### Summary: Similar score compared with decision tree "
   ]
  },
  {
   "cell_type": "markdown",
   "metadata": {},
   "source": [
    "## Summary: Among the 3 classifiers, logistic regression and support vector machine gave the best performace with the latter giving a slightly better overall precision and recall score. Hyperparameters tuning of the parameters in support vector machine are conducted in the following steps."
   ]
  },
  {
   "cell_type": "markdown",
   "metadata": {},
   "source": [
    "# Hyperparameters tuning - support vector machine "
   ]
  },
  {
   "cell_type": "code",
   "execution_count": 24,
   "metadata": {},
   "outputs": [
    {
     "name": "stdout",
     "output_type": "stream",
     "text": [
      "Fitting 5 folds for each of 24 candidates, totalling 120 fits\n",
      "[CV 1/5; 1/24] START C=100, kernel=poly.........................................\n",
      "[CV 1/5; 1/24] END .......................C=100, kernel=poly; total time=29.2min\n",
      "[CV 2/5; 1/24] START C=100, kernel=poly.........................................\n",
      "[CV 2/5; 1/24] END .......................C=100, kernel=poly; total time=29.1min\n",
      "[CV 3/5; 1/24] START C=100, kernel=poly.........................................\n",
      "[CV 3/5; 1/24] END .......................C=100, kernel=poly; total time=29.8min\n",
      "[CV 4/5; 1/24] START C=100, kernel=poly.........................................\n",
      "[CV 4/5; 1/24] END .......................C=100, kernel=poly; total time=29.1min\n",
      "[CV 5/5; 1/24] START C=100, kernel=poly.........................................\n",
      "[CV 5/5; 1/24] END .......................C=100, kernel=poly; total time=29.1min\n",
      "[CV 1/5; 2/24] START C=100, kernel=rbf..........................................\n",
      "[CV 1/5; 2/24] END ........................C=100, kernel=rbf; total time=21.0min\n",
      "[CV 2/5; 2/24] START C=100, kernel=rbf..........................................\n",
      "[CV 2/5; 2/24] END ........................C=100, kernel=rbf; total time=20.7min\n",
      "[CV 3/5; 2/24] START C=100, kernel=rbf..........................................\n",
      "[CV 3/5; 2/24] END ........................C=100, kernel=rbf; total time=21.1min\n",
      "[CV 4/5; 2/24] START C=100, kernel=rbf..........................................\n",
      "[CV 4/5; 2/24] END ........................C=100, kernel=rbf; total time=21.0min\n",
      "[CV 5/5; 2/24] START C=100, kernel=rbf..........................................\n",
      "[CV 5/5; 2/24] END ........................C=100, kernel=rbf; total time=20.6min\n",
      "[CV 1/5; 3/24] START C=100, kernel=sigmoid......................................\n",
      "[CV 1/5; 3/24] END ....................C=100, kernel=sigmoid; total time=51.1min\n",
      "[CV 2/5; 3/24] START C=100, kernel=sigmoid......................................\n",
      "[CV 2/5; 3/24] END ....................C=100, kernel=sigmoid; total time=59.8min\n",
      "[CV 3/5; 3/24] START C=100, kernel=sigmoid......................................\n",
      "[CV 3/5; 3/24] END ....................C=100, kernel=sigmoid; total time=74.2min\n",
      "[CV 4/5; 3/24] START C=100, kernel=sigmoid......................................\n",
      "[CV 4/5; 3/24] END ....................C=100, kernel=sigmoid; total time=53.3min\n",
      "[CV 5/5; 3/24] START C=100, kernel=sigmoid......................................\n",
      "[CV 5/5; 3/24] END ....................C=100, kernel=sigmoid; total time=60.2min\n",
      "[CV 1/5; 4/24] START C=100, kernel=linear.......................................\n",
      "[CV 1/5; 4/24] END .....................C=100, kernel=linear; total time=29.0min\n",
      "[CV 2/5; 4/24] START C=100, kernel=linear.......................................\n",
      "[CV 2/5; 4/24] END .....................C=100, kernel=linear; total time=34.6min\n",
      "[CV 3/5; 4/24] START C=100, kernel=linear.......................................\n",
      "[CV 3/5; 4/24] END .....................C=100, kernel=linear; total time=34.1min\n",
      "[CV 4/5; 4/24] START C=100, kernel=linear.......................................\n",
      "[CV 4/5; 4/24] END .....................C=100, kernel=linear; total time=31.4min\n",
      "[CV 5/5; 4/24] START C=100, kernel=linear.......................................\n",
      "[CV 5/5; 4/24] END .....................C=100, kernel=linear; total time=28.2min\n",
      "[CV 1/5; 5/24] START C=10, kernel=poly..........................................\n",
      "[CV 1/5; 5/24] END ........................C=10, kernel=poly; total time=29.4min\n",
      "[CV 2/5; 5/24] START C=10, kernel=poly..........................................\n",
      "[CV 2/5; 5/24] END ........................C=10, kernel=poly; total time=29.2min\n",
      "[CV 3/5; 5/24] START C=10, kernel=poly..........................................\n",
      "[CV 3/5; 5/24] END ........................C=10, kernel=poly; total time=29.5min\n",
      "[CV 4/5; 5/24] START C=10, kernel=poly..........................................\n",
      "[CV 4/5; 5/24] END ........................C=10, kernel=poly; total time=28.9min\n",
      "[CV 5/5; 5/24] START C=10, kernel=poly..........................................\n",
      "[CV 5/5; 5/24] END ........................C=10, kernel=poly; total time=29.0min\n",
      "[CV 1/5; 6/24] START C=10, kernel=rbf...........................................\n",
      "[CV 1/5; 6/24] END .........................C=10, kernel=rbf; total time=20.6min\n",
      "[CV 2/5; 6/24] START C=10, kernel=rbf...........................................\n",
      "[CV 2/5; 6/24] END .........................C=10, kernel=rbf; total time=20.7min\n",
      "[CV 3/5; 6/24] START C=10, kernel=rbf...........................................\n",
      "[CV 3/5; 6/24] END .........................C=10, kernel=rbf; total time=20.9min\n",
      "[CV 4/5; 6/24] START C=10, kernel=rbf...........................................\n",
      "[CV 4/5; 6/24] END .........................C=10, kernel=rbf; total time=20.4min\n",
      "[CV 5/5; 6/24] START C=10, kernel=rbf...........................................\n",
      "[CV 5/5; 6/24] END .........................C=10, kernel=rbf; total time=20.4min\n",
      "[CV 1/5; 7/24] START C=10, kernel=sigmoid.......................................\n",
      "[CV 1/5; 7/24] END .....................C=10, kernel=sigmoid; total time=26.2min\n",
      "[CV 2/5; 7/24] START C=10, kernel=sigmoid.......................................\n",
      "[CV 2/5; 7/24] END .....................C=10, kernel=sigmoid; total time=46.2min\n",
      "[CV 3/5; 7/24] START C=10, kernel=sigmoid.......................................\n",
      "[CV 3/5; 7/24] END .....................C=10, kernel=sigmoid; total time=37.0min\n",
      "[CV 4/5; 7/24] START C=10, kernel=sigmoid.......................................\n",
      "[CV 4/5; 7/24] END .....................C=10, kernel=sigmoid; total time=31.7min\n",
      "[CV 5/5; 7/24] START C=10, kernel=sigmoid.......................................\n",
      "[CV 5/5; 7/24] END .....................C=10, kernel=sigmoid; total time=61.6min\n",
      "[CV 1/5; 8/24] START C=10, kernel=linear........................................\n",
      "[CV 1/5; 8/24] END ......................C=10, kernel=linear; total time=23.2min\n",
      "[CV 2/5; 8/24] START C=10, kernel=linear........................................\n",
      "[CV 2/5; 8/24] END ......................C=10, kernel=linear; total time=24.9min\n",
      "[CV 3/5; 8/24] START C=10, kernel=linear........................................\n",
      "[CV 3/5; 8/24] END ......................C=10, kernel=linear; total time=26.8min\n",
      "[CV 4/5; 8/24] START C=10, kernel=linear........................................\n",
      "[CV 4/5; 8/24] END ......................C=10, kernel=linear; total time=25.2min\n",
      "[CV 5/5; 8/24] START C=10, kernel=linear........................................\n",
      "[CV 5/5; 8/24] END ......................C=10, kernel=linear; total time=24.1min\n",
      "[CV 1/5; 9/24] START C=1.0, kernel=poly.........................................\n",
      "[CV 1/5; 9/24] END .......................C=1.0, kernel=poly; total time=27.5min\n",
      "[CV 2/5; 9/24] START C=1.0, kernel=poly.........................................\n",
      "[CV 2/5; 9/24] END .......................C=1.0, kernel=poly; total time=27.8min\n",
      "[CV 3/5; 9/24] START C=1.0, kernel=poly.........................................\n",
      "[CV 3/5; 9/24] END .......................C=1.0, kernel=poly; total time=27.4min\n",
      "[CV 4/5; 9/24] START C=1.0, kernel=poly.........................................\n",
      "[CV 4/5; 9/24] END .......................C=1.0, kernel=poly; total time=28.0min\n",
      "[CV 5/5; 9/24] START C=1.0, kernel=poly.........................................\n",
      "[CV 5/5; 9/24] END .......................C=1.0, kernel=poly; total time=27.6min\n",
      "[CV 1/5; 10/24] START C=1.0, kernel=rbf.........................................\n",
      "[CV 1/5; 10/24] END .......................C=1.0, kernel=rbf; total time=17.3min\n",
      "[CV 2/5; 10/24] START C=1.0, kernel=rbf.........................................\n",
      "[CV 2/5; 10/24] END .......................C=1.0, kernel=rbf; total time=18.1min\n",
      "[CV 3/5; 10/24] START C=1.0, kernel=rbf.........................................\n",
      "[CV 3/5; 10/24] END .......................C=1.0, kernel=rbf; total time=17.8min\n",
      "[CV 4/5; 10/24] START C=1.0, kernel=rbf.........................................\n",
      "[CV 4/5; 10/24] END .......................C=1.0, kernel=rbf; total time=17.5min\n",
      "[CV 5/5; 10/24] START C=1.0, kernel=rbf.........................................\n",
      "[CV 5/5; 10/24] END .......................C=1.0, kernel=rbf; total time=17.0min\n",
      "[CV 1/5; 11/24] START C=1.0, kernel=sigmoid.....................................\n",
      "[CV 1/5; 11/24] END ...................C=1.0, kernel=sigmoid; total time= 7.8min\n",
      "[CV 2/5; 11/24] START C=1.0, kernel=sigmoid.....................................\n",
      "[CV 2/5; 11/24] END ...................C=1.0, kernel=sigmoid; total time= 8.0min\n",
      "[CV 3/5; 11/24] START C=1.0, kernel=sigmoid.....................................\n",
      "[CV 3/5; 11/24] END ...................C=1.0, kernel=sigmoid; total time= 8.0min\n",
      "[CV 4/5; 11/24] START C=1.0, kernel=sigmoid.....................................\n",
      "[CV 4/5; 11/24] END ...................C=1.0, kernel=sigmoid; total time= 8.0min\n",
      "[CV 5/5; 11/24] START C=1.0, kernel=sigmoid.....................................\n",
      "[CV 5/5; 11/24] END ...................C=1.0, kernel=sigmoid; total time= 7.8min\n",
      "[CV 1/5; 12/24] START C=1.0, kernel=linear......................................\n",
      "[CV 1/5; 12/24] END ....................C=1.0, kernel=linear; total time= 7.9min\n",
      "[CV 2/5; 12/24] START C=1.0, kernel=linear......................................\n",
      "[CV 2/5; 12/24] END ....................C=1.0, kernel=linear; total time= 8.1min\n",
      "[CV 3/5; 12/24] START C=1.0, kernel=linear......................................\n",
      "[CV 3/5; 12/24] END ....................C=1.0, kernel=linear; total time= 8.1min\n",
      "[CV 4/5; 12/24] START C=1.0, kernel=linear......................................\n",
      "[CV 4/5; 12/24] END ....................C=1.0, kernel=linear; total time= 8.0min\n",
      "[CV 5/5; 12/24] START C=1.0, kernel=linear......................................\n",
      "[CV 5/5; 12/24] END ....................C=1.0, kernel=linear; total time= 9.5min\n",
      "[CV 1/5; 13/24] START C=0.1, kernel=poly........................................\n",
      "[CV 1/5; 13/24] END ......................C=0.1, kernel=poly; total time=10.4min\n",
      "[CV 2/5; 13/24] START C=0.1, kernel=poly........................................\n",
      "[CV 2/5; 13/24] END ......................C=0.1, kernel=poly; total time=10.4min\n",
      "[CV 3/5; 13/24] START C=0.1, kernel=poly........................................\n",
      "[CV 3/5; 13/24] END ......................C=0.1, kernel=poly; total time=10.4min\n",
      "[CV 4/5; 13/24] START C=0.1, kernel=poly........................................\n",
      "[CV 4/5; 13/24] END ......................C=0.1, kernel=poly; total time=10.4min\n",
      "[CV 5/5; 13/24] START C=0.1, kernel=poly........................................\n",
      "[CV 5/5; 13/24] END ......................C=0.1, kernel=poly; total time=10.4min\n",
      "[CV 1/5; 14/24] START C=0.1, kernel=rbf.........................................\n",
      "[CV 1/5; 14/24] END .......................C=0.1, kernel=rbf; total time= 8.8min\n",
      "[CV 2/5; 14/24] START C=0.1, kernel=rbf.........................................\n",
      "[CV 2/5; 14/24] END .......................C=0.1, kernel=rbf; total time= 8.8min\n",
      "[CV 3/5; 14/24] START C=0.1, kernel=rbf.........................................\n",
      "[CV 3/5; 14/24] END .......................C=0.1, kernel=rbf; total time= 8.8min\n",
      "[CV 4/5; 14/24] START C=0.1, kernel=rbf.........................................\n",
      "[CV 4/5; 14/24] END .......................C=0.1, kernel=rbf; total time= 8.9min\n",
      "[CV 5/5; 14/24] START C=0.1, kernel=rbf.........................................\n",
      "[CV 5/5; 14/24] END .......................C=0.1, kernel=rbf; total time= 8.9min\n",
      "[CV 1/5; 15/24] START C=0.1, kernel=sigmoid.....................................\n",
      "[CV 1/5; 15/24] END ...................C=0.1, kernel=sigmoid; total time= 6.9min\n",
      "[CV 2/5; 15/24] START C=0.1, kernel=sigmoid.....................................\n",
      "[CV 2/5; 15/24] END ...................C=0.1, kernel=sigmoid; total time= 6.9min\n",
      "[CV 3/5; 15/24] START C=0.1, kernel=sigmoid.....................................\n",
      "[CV 3/5; 15/24] END ...................C=0.1, kernel=sigmoid; total time= 7.0min\n",
      "[CV 4/5; 15/24] START C=0.1, kernel=sigmoid.....................................\n",
      "[CV 4/5; 15/24] END ...................C=0.1, kernel=sigmoid; total time= 7.0min\n",
      "[CV 5/5; 15/24] START C=0.1, kernel=sigmoid.....................................\n",
      "[CV 5/5; 15/24] END ...................C=0.1, kernel=sigmoid; total time= 6.9min\n",
      "[CV 1/5; 16/24] START C=0.1, kernel=linear......................................\n",
      "[CV 1/5; 16/24] END ....................C=0.1, kernel=linear; total time= 6.9min\n",
      "[CV 2/5; 16/24] START C=0.1, kernel=linear......................................\n",
      "[CV 2/5; 16/24] END ....................C=0.1, kernel=linear; total time= 6.9min\n",
      "[CV 3/5; 16/24] START C=0.1, kernel=linear......................................\n",
      "[CV 3/5; 16/24] END ....................C=0.1, kernel=linear; total time= 7.0min\n",
      "[CV 4/5; 16/24] START C=0.1, kernel=linear......................................\n",
      "[CV 4/5; 16/24] END ....................C=0.1, kernel=linear; total time= 6.9min\n",
      "[CV 5/5; 16/24] START C=0.1, kernel=linear......................................\n",
      "[CV 5/5; 16/24] END ....................C=0.1, kernel=linear; total time= 6.9min\n",
      "[CV 1/5; 17/24] START C=0.01, kernel=poly.......................................\n",
      "[CV 1/5; 17/24] END .....................C=0.01, kernel=poly; total time=10.4min\n",
      "[CV 2/5; 17/24] START C=0.01, kernel=poly.......................................\n",
      "[CV 2/5; 17/24] END .....................C=0.01, kernel=poly; total time=10.4min\n",
      "[CV 3/5; 17/24] START C=0.01, kernel=poly.......................................\n",
      "[CV 3/5; 17/24] END .....................C=0.01, kernel=poly; total time=10.5min\n",
      "[CV 4/5; 17/24] START C=0.01, kernel=poly.......................................\n",
      "[CV 4/5; 17/24] END .....................C=0.01, kernel=poly; total time=10.4min\n",
      "[CV 5/5; 17/24] START C=0.01, kernel=poly.......................................\n",
      "[CV 5/5; 17/24] END .....................C=0.01, kernel=poly; total time=10.5min\n",
      "[CV 1/5; 18/24] START C=0.01, kernel=rbf........................................\n",
      "[CV 1/5; 18/24] END ......................C=0.01, kernel=rbf; total time=10.8min\n",
      "[CV 2/5; 18/24] START C=0.01, kernel=rbf........................................\n",
      "[CV 2/5; 18/24] END ......................C=0.01, kernel=rbf; total time=10.7min\n",
      "[CV 3/5; 18/24] START C=0.01, kernel=rbf........................................\n",
      "[CV 3/5; 18/24] END ......................C=0.01, kernel=rbf; total time=10.8min\n",
      "[CV 4/5; 18/24] START C=0.01, kernel=rbf........................................\n",
      "[CV 4/5; 18/24] END ......................C=0.01, kernel=rbf; total time=10.9min\n",
      "[CV 5/5; 18/24] START C=0.01, kernel=rbf........................................\n",
      "[CV 5/5; 18/24] END ......................C=0.01, kernel=rbf; total time=10.7min\n",
      "[CV 1/5; 19/24] START C=0.01, kernel=sigmoid....................................\n",
      "[CV 1/5; 19/24] END ..................C=0.01, kernel=sigmoid; total time=10.3min\n",
      "[CV 2/5; 19/24] START C=0.01, kernel=sigmoid....................................\n",
      "[CV 2/5; 19/24] END ..................C=0.01, kernel=sigmoid; total time=10.3min\n",
      "[CV 3/5; 19/24] START C=0.01, kernel=sigmoid....................................\n",
      "[CV 3/5; 19/24] END ..................C=0.01, kernel=sigmoid; total time=10.3min\n",
      "[CV 4/5; 19/24] START C=0.01, kernel=sigmoid....................................\n",
      "[CV 4/5; 19/24] END ..................C=0.01, kernel=sigmoid; total time=10.3min\n",
      "[CV 5/5; 19/24] START C=0.01, kernel=sigmoid....................................\n",
      "[CV 5/5; 19/24] END ..................C=0.01, kernel=sigmoid; total time=10.3min\n",
      "[CV 1/5; 20/24] START C=0.01, kernel=linear.....................................\n",
      "[CV 1/5; 20/24] END ...................C=0.01, kernel=linear; total time=10.4min\n",
      "[CV 2/5; 20/24] START C=0.01, kernel=linear.....................................\n",
      "[CV 2/5; 20/24] END ...................C=0.01, kernel=linear; total time=10.5min\n",
      "[CV 3/5; 20/24] START C=0.01, kernel=linear.....................................\n",
      "[CV 3/5; 20/24] END ...................C=0.01, kernel=linear; total time=10.4min\n",
      "[CV 4/5; 20/24] START C=0.01, kernel=linear.....................................\n",
      "[CV 4/5; 20/24] END ...................C=0.01, kernel=linear; total time=10.3min\n",
      "[CV 5/5; 20/24] START C=0.01, kernel=linear.....................................\n",
      "[CV 5/5; 20/24] END ...................C=0.01, kernel=linear; total time=10.4min\n",
      "[CV 1/5; 21/24] START C=0.001, kernel=poly......................................\n",
      "[CV 1/5; 21/24] END ....................C=0.001, kernel=poly; total time=10.4min\n",
      "[CV 2/5; 21/24] START C=0.001, kernel=poly......................................\n",
      "[CV 2/5; 21/24] END ....................C=0.001, kernel=poly; total time=10.4min\n",
      "[CV 3/5; 21/24] START C=0.001, kernel=poly......................................\n",
      "[CV 3/5; 21/24] END ....................C=0.001, kernel=poly; total time=10.5min\n",
      "[CV 4/5; 21/24] START C=0.001, kernel=poly......................................\n",
      "[CV 4/5; 21/24] END ....................C=0.001, kernel=poly; total time=10.4min\n",
      "[CV 5/5; 21/24] START C=0.001, kernel=poly......................................\n",
      "[CV 5/5; 21/24] END ....................C=0.001, kernel=poly; total time=10.4min\n",
      "[CV 1/5; 22/24] START C=0.001, kernel=rbf.......................................\n",
      "[CV 1/5; 22/24] END .....................C=0.001, kernel=rbf; total time=10.8min\n",
      "[CV 2/5; 22/24] START C=0.001, kernel=rbf.......................................\n",
      "[CV 2/5; 22/24] END .....................C=0.001, kernel=rbf; total time=10.7min\n",
      "[CV 3/5; 22/24] START C=0.001, kernel=rbf.......................................\n",
      "[CV 3/5; 22/24] END .....................C=0.001, kernel=rbf; total time=10.8min\n",
      "[CV 4/5; 22/24] START C=0.001, kernel=rbf.......................................\n",
      "[CV 4/5; 22/24] END .....................C=0.001, kernel=rbf; total time=10.7min\n",
      "[CV 5/5; 22/24] START C=0.001, kernel=rbf.......................................\n",
      "[CV 5/5; 22/24] END .....................C=0.001, kernel=rbf; total time=10.7min\n",
      "[CV 1/5; 23/24] START C=0.001, kernel=sigmoid...................................\n",
      "[CV 1/5; 23/24] END .................C=0.001, kernel=sigmoid; total time=10.9min\n",
      "[CV 2/5; 23/24] START C=0.001, kernel=sigmoid...................................\n",
      "[CV 2/5; 23/24] END .................C=0.001, kernel=sigmoid; total time=10.7min\n",
      "[CV 3/5; 23/24] START C=0.001, kernel=sigmoid...................................\n",
      "[CV 3/5; 23/24] END .................C=0.001, kernel=sigmoid; total time=10.5min\n",
      "[CV 4/5; 23/24] START C=0.001, kernel=sigmoid...................................\n",
      "[CV 4/5; 23/24] END .................C=0.001, kernel=sigmoid; total time=10.5min\n",
      "[CV 5/5; 23/24] START C=0.001, kernel=sigmoid...................................\n",
      "[CV 5/5; 23/24] END .................C=0.001, kernel=sigmoid; total time=10.6min\n",
      "[CV 1/5; 24/24] START C=0.001, kernel=linear....................................\n",
      "[CV 1/5; 24/24] END ..................C=0.001, kernel=linear; total time=10.8min\n",
      "[CV 2/5; 24/24] START C=0.001, kernel=linear....................................\n",
      "[CV 2/5; 24/24] END ..................C=0.001, kernel=linear; total time=10.8min\n",
      "[CV 3/5; 24/24] START C=0.001, kernel=linear....................................\n",
      "[CV 3/5; 24/24] END ..................C=0.001, kernel=linear; total time=10.8min\n",
      "[CV 4/5; 24/24] START C=0.001, kernel=linear....................................\n",
      "[CV 4/5; 24/24] END ..................C=0.001, kernel=linear; total time=10.9min\n",
      "[CV 5/5; 24/24] START C=0.001, kernel=linear....................................\n",
      "[CV 5/5; 24/24] END ..................C=0.001, kernel=linear; total time=10.9min\n",
      "{'C': 100, 'kernel': 'rbf'}\n"
     ]
    }
   ],
   "source": [
    "from sklearn.model_selection import GridSearchCV\n",
    "\n",
    "#Define hyperparameters\n",
    "kernels = ['poly', 'rbf', 'sigmoid','linear']\n",
    "c = [100, 10, 1.0, 0.1, 0.01, 0.001]\n",
    "\n",
    "grid = dict(kernel=kernels, C=c)\n",
    "grid_search = GridSearchCV(estimator=svm_clf, param_grid=grid, cv=5, scoring = 'f1', verbose=10)\n",
    "grid_result = grid_search.fit(X_train_vector, y_train)\n",
    "print(grid_search.best_params_)"
   ]
  },
  {
   "cell_type": "code",
   "execution_count": 25,
   "metadata": {},
   "outputs": [
    {
     "name": "stdout",
     "output_type": "stream",
     "text": [
      "              precision    recall  f1-score   support\n",
      "\n",
      "           0       0.91      0.89      0.90      4940\n",
      "           1       0.89      0.91      0.90      4977\n",
      "\n",
      "    accuracy                           0.90      9917\n",
      "   macro avg       0.90      0.90      0.90      9917\n",
      "weighted avg       0.90      0.90      0.90      9917\n",
      "\n"
     ]
    }
   ],
   "source": [
    "gs_y_pred = grid_search.predict(X_test_vector)\n",
    "cm=confusion_matrix(y_test,gs_y_pred)\n",
    "print(classification_report(y_test, gs_y_pred))"
   ]
  },
  {
   "cell_type": "markdown",
   "metadata": {},
   "source": [
    "# Conclusion: Support vector machine gave the best performance in classifying sentiments of the IMDB dataset compared with logistic regression classifer, decision tree and random forest"
   ]
  },
  {
   "cell_type": "markdown",
   "metadata": {},
   "source": [
    "### We can see that tree-based models did not perform as well as logistic regression modeel or support vector machine, possible explanation is that the non-tree based algorithms are better at handling noisy data. Supprot vector machine focuses on maximising the margin between different classes rather than fitting the data into the model, and is more robust in handling high-dimensional data. Through hyperparameters tuning, we can see that the optimal kernal and learning rate are rbf and 100, respectively. However, the improvement is minimal compared with using a linear kernal for SVC."
   ]
  }
 ],
 "metadata": {
  "kernelspec": {
   "display_name": "Python 3",
   "language": "python",
   "name": "python3"
  },
  "language_info": {
   "codemirror_mode": {
    "name": "ipython",
    "version": 3
   },
   "file_extension": ".py",
   "mimetype": "text/x-python",
   "name": "python",
   "nbconvert_exporter": "python",
   "pygments_lexer": "ipython3",
   "version": "3.8.3"
  }
 },
 "nbformat": 4,
 "nbformat_minor": 4
}
